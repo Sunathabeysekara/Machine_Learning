{
 "cells": [
  {
   "cell_type": "code",
   "execution_count": 8,
   "id": "1d1f9b75",
   "metadata": {},
   "outputs": [],
   "source": [
    "#creating x,y table\n",
    "import numpy as np\n",
    "import pandas as pd"
   ]
  },
  {
   "cell_type": "code",
   "execution_count": 4,
   "id": "1cabc04b",
   "metadata": {},
   "outputs": [],
   "source": [
    "X=np.array([3.78,2.44,2.09,0.14,1.72,1.65,4.92,4.37,4.96,4.52,3.69,5.88]).reshape(-1,1)"
   ]
  },
  {
   "cell_type": "code",
   "execution_count": 3,
   "id": "8d089801",
   "metadata": {},
   "outputs": [],
   "source": [
    "y=np.array([0,0,0,0,0,0,1,1,1,1,1,1])"
   ]
  },
  {
   "cell_type": "code",
   "execution_count": 6,
   "id": "0ff727d9",
   "metadata": {},
   "outputs": [
    {
     "name": "stdout",
     "output_type": "stream",
     "text": [
      "    Feature  Target\n",
      "0      3.78       0\n",
      "1      2.44       0\n",
      "2      2.09       0\n",
      "3      0.14       0\n",
      "4      1.72       0\n",
      "5      1.65       0\n",
      "6      4.92       1\n",
      "7      4.37       1\n",
      "8      4.96       1\n",
      "9      4.52       1\n",
      "10     3.69       1\n",
      "11     5.88       1\n"
     ]
    }
   ],
   "source": [
    "#create dataframe from arrays\n",
    "df=pd.DataFrame(X,columns=['Feature'])#data array,column name\n",
    "df['Target']=y#add y as a column in dafatframe\n",
    "\n",
    "#displaying\n",
    "print(df)"
   ]
  },
  {
   "cell_type": "code",
   "execution_count": null,
   "id": "818abc60",
   "metadata": {},
   "outputs": [],
   "source": []
  }
 ],
 "metadata": {
  "kernelspec": {
   "display_name": "Python 3 (ipykernel)",
   "language": "python",
   "name": "python3"
  },
  "language_info": {
   "codemirror_mode": {
    "name": "ipython",
    "version": 3
   },
   "file_extension": ".py",
   "mimetype": "text/x-python",
   "name": "python",
   "nbconvert_exporter": "python",
   "pygments_lexer": "ipython3",
   "version": "3.9.13"
  }
 },
 "nbformat": 4,
 "nbformat_minor": 5
}
