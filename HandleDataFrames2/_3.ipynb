{
 "cells": [
  {
   "cell_type": "code",
   "execution_count": 1,
   "id": "cf881f1c",
   "metadata": {},
   "outputs": [],
   "source": [
    "#creating x,y table\n",
    "import numpy as np\n",
    "import pandas as pd"
   ]
  },
  {
   "cell_type": "code",
   "execution_count": 2,
   "id": "4faa4aff",
   "metadata": {},
   "outputs": [
    {
     "name": "stdout",
     "output_type": "stream",
     "text": [
      "    Feature1  Feature2  Featrue3  Target\n",
      "0       3.78       1.5      10.0       0\n",
      "1       2.44       1.2      20.0       0\n",
      "2       2.09       0.9      15.0       0\n",
      "3       0.14       0.4       5.0       0\n",
      "4       1.72       0.6       6.0       0\n",
      "5       1.65       0.7       7.0       0\n",
      "6       4.92       2.3      25.0       1\n",
      "7       4.37       2.0      30.0       1\n",
      "8       4.96       2.4      35.0       1\n",
      "9       4.52       2.1      28.0       1\n",
      "10      3.69       1.9      22.0       1\n",
      "11      5.88       2.5      27.0       1\n"
     ]
    }
   ],
   "source": [
    "#data for multiple featrues\n",
    "x1=np.array([3.78,2.44,2.09,0.14,1.72,1.65,4.92,4.37,4.96,4.52,3.69,5.88]).reshape(-1,1)\n",
    "x2=np.array([1.5,1.2,0.9,0.4,0.6,0.7,2.3,2.0,2.4,2.1,1.9,2.5]).reshape(-1,1)\n",
    "x3=np.array([10,20,15,5,6,7,25,30,35,28,22,27]).reshape(-1,1)\n",
    "\n",
    "y=np.array([0,0,0,0,0,0,1,1,1,1,1,1])\n",
    "\n",
    "#comp\\bine featrue into one array\n",
    "X=np.hstack((x1,x2,x3))#combine x1,x2,x3 horizontally\n",
    "\n",
    "#create a DataFrame from the combines feature array\n",
    "df=pd.DataFrame(X,columns=['Feature1','Feature2','Featrue3'])#naming cols\n",
    "df['Target']=y#add target variable as new col\n",
    "\n",
    "#diplay\n",
    "print(df)\n"
   ]
  },
  {
   "cell_type": "code",
   "execution_count": 8,
   "id": "be6d06ff",
   "metadata": {},
   "outputs": [],
   "source": [
    "#another way\n",
    "#dataset=[X,y]\n",
    "#table2=pd.DataFrame(dataset,columns=['f1','f2','f3','taget_y'])\n",
    "#table2"
   ]
  },
  {
   "cell_type": "code",
   "execution_count": null,
   "id": "db8a7585",
   "metadata": {},
   "outputs": [],
   "source": []
  }
 ],
 "metadata": {
  "kernelspec": {
   "display_name": "Python 3 (ipykernel)",
   "language": "python",
   "name": "python3"
  },
  "language_info": {
   "codemirror_mode": {
    "name": "ipython",
    "version": 3
   },
   "file_extension": ".py",
   "mimetype": "text/x-python",
   "name": "python",
   "nbconvert_exporter": "python",
   "pygments_lexer": "ipython3",
   "version": "3.9.13"
  }
 },
 "nbformat": 4,
 "nbformat_minor": 5
}
